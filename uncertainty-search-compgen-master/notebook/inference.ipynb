{
 "cells": [
  {
   "cell_type": "code",
   "execution_count": 1,
   "id": "f6c776a6",
   "metadata": {},
   "outputs": [],
   "source": [
    "%load_ext autoreload\n",
    "%autoreload 2"
   ]
  },
  {
   "cell_type": "code",
   "execution_count": 2,
   "id": "4b6e8dd7",
   "metadata": {},
   "outputs": [
    {
     "name": "stdout",
     "output_type": "stream",
     "text": [
      "Torch file path: /appl/scibuilder-mamba/aalto-rhel9/prod/software/scicomp-python-env/2025.1/7956747/lib/python3.11/site-packages/torch/__init__.py\n"
     ]
    }
   ],
   "source": [
    "import torch\n",
    "print(\"Torch file path:\", torch.__file__)\n"
   ]
  },
  {
   "cell_type": "code",
   "execution_count": 3,
   "id": "c7e4ee14",
   "metadata": {},
   "outputs": [],
   "source": [
    "import os\n",
    "os.environ[\"HF_HOME\"] = \"/tmp/hf\""
   ]
  },
  {
   "cell_type": "code",
   "execution_count": 4,
   "id": "05e31f93",
   "metadata": {},
   "outputs": [
    {
     "name": "stdout",
     "output_type": "stream",
     "text": [
      "CUDA available: True\n",
      "GPU count: 1\n",
      "GPU name: NVIDIA H100 80GB HBM3\n"
     ]
    }
   ],
   "source": [
    "import torch\n",
    "print(\"CUDA available:\", torch.cuda.is_available())\n",
    "print(\"GPU count:\", torch.cuda.device_count())\n",
    "if torch.cuda.is_available():\n",
    "    print(\"GPU name:\", torch.cuda.get_device_name(0))"
   ]
  },
  {
   "cell_type": "code",
   "execution_count": 5,
   "id": "81f88bb5",
   "metadata": {},
   "outputs": [
    {
     "name": "stdout",
     "output_type": "stream",
     "text": [
      "/home/wangx36/uncertainty-search-compgen-master/uncertainty-search-compgen-master/notebook\n"
     ]
    }
   ],
   "source": [
    "import os\n",
    "print(os.getcwd())\n"
   ]
  },
  {
   "cell_type": "code",
   "execution_count": 6,
   "id": "10211210",
   "metadata": {},
   "outputs": [],
   "source": [
    "import sys\n",
    "sys.path.append(os.path.abspath(\"/home/wangx36/uncertainty-search-compgen-master/uncertainty-search-compgen-master\"))"
   ]
  },
  {
   "cell_type": "code",
   "execution_count": 7,
   "id": "863a00a4",
   "metadata": {},
   "outputs": [
    {
     "name": "stdout",
     "output_type": "stream",
     "text": [
      "/appl/scibuilder-mamba/aalto-rhel9/prod/software/scicomp-python-env/2025.1/7956747/bin/python\n"
     ]
    }
   ],
   "source": [
    "import sys\n",
    "print(sys.executable)\n"
   ]
  },
  {
   "cell_type": "code",
   "execution_count": 8,
   "id": "184786e7",
   "metadata": {},
   "outputs": [
    {
     "name": "stdout",
     "output_type": "stream",
     "text": [
      "['/appl/scibuilder-mamba/aalto-rhel9/prod/software/scicomp-python-env/2025.1/7956747/lib/python311.zip', '/appl/scibuilder-mamba/aalto-rhel9/prod/software/scicomp-python-env/2025.1/7956747/lib/python3.11', '/appl/scibuilder-mamba/aalto-rhel9/prod/software/scicomp-python-env/2025.1/7956747/lib/python3.11/lib-dynload', '', '/home/wangx36/.local/lib/python3.11/site-packages', '/appl/scibuilder-mamba/aalto-rhel9/prod/software/scicomp-python-env/2025.1/7956747/lib/python3.11/site-packages', '/home/wangx36/uncertainty-search-compgen-master/uncertainty-search-compgen-master']\n"
     ]
    }
   ],
   "source": [
    "import sys\n",
    "print(sys.path)"
   ]
  },
  {
   "cell_type": "code",
   "execution_count": 9,
   "id": "b12ef1e5",
   "metadata": {},
   "outputs": [],
   "source": [
    "import sys\n",
    "sys.path.append(\"/home/wangx36/.local/lib/python3.11/site-packages\")\n"
   ]
  },
  {
   "cell_type": "code",
   "execution_count": 10,
   "id": "bb9f8cef",
   "metadata": {},
   "outputs": [
    {
     "name": "stderr",
     "output_type": "stream",
     "text": [
      "2025-04-25 16:32:03.784463: I tensorflow/core/util/port.cc:153] oneDNN custom operations are on. You may see slightly different numerical results due to floating-point round-off errors from different computation orders. To turn them off, set the environment variable `TF_ENABLE_ONEDNN_OPTS=0`.\n",
      "2025-04-25 16:32:03.796001: E external/local_xla/xla/stream_executor/cuda/cuda_fft.cc:485] Unable to register cuFFT factory: Attempting to register factory for plugin cuFFT when one has already been registered\n",
      "2025-04-25 16:32:03.809274: E external/local_xla/xla/stream_executor/cuda/cuda_dnn.cc:8454] Unable to register cuDNN factory: Attempting to register factory for plugin cuDNN when one has already been registered\n",
      "2025-04-25 16:32:03.813045: E external/local_xla/xla/stream_executor/cuda/cuda_blas.cc:1452] Unable to register cuBLAS factory: Attempting to register factory for plugin cuBLAS when one has already been registered\n",
      "2025-04-25 16:32:03.823184: I tensorflow/core/platform/cpu_feature_guard.cc:210] This TensorFlow binary is optimized to use available CPU instructions in performance-critical operations.\n",
      "To enable the following instructions: SSE4.1 SSE4.2 AVX AVX2 AVX512F AVX512_VNNI AVX512_BF16 AVX512_FP16 AVX_VNNI AMX_TILE AMX_INT8 AMX_BF16 FMA, in other operations, rebuild TensorFlow with the appropriate compiler flags.\n"
     ]
    }
   ],
   "source": [
    "from uncertainty_search_compgen.data import load_smcalflow_cs_simplified\n",
    "from uncertainty_search_compgen.load_hf_lm import load_hf_tokenizer\n",
    "from uncertainty_search_compgen.train_lm import finetune_tf_lm,T5Module\n",
    "from uncertainty_search_compgen.inference import get_topk_outputs, generate_gpt, uncertainty_guided_search\n",
    "from uncertainty_search_compgen.dataset import TokenizerPairDataset\n",
    "from uncertainty_search_compgen.divergence_metrics import (\n",
    "    measure_entropy,\n",
    "    measure_mutual_kl_causal_mask,\n",
    "    measure_teacher_student_model_divergence\n",
    ")\n",
    "from uncertainty_search_compgen.plotting import visualize_as_table, plot_batch_and_metric, plot_batch_and_metric_pair\n",
    "\n",
    "import numpy as np\n",
    "import torch\n",
    "from torch.utils.data import DataLoader\n",
    "import torch.nn.functional as F\n",
    "from uncertainty_search_compgen.data import format_source, retokenize_input,parse_json_objects\n"
   ]
  },
  {
   "cell_type": "code",
   "execution_count": 11,
   "id": "8759fe04",
   "metadata": {},
   "outputs": [],
   "source": [
    "(\n",
    "    train_pairs,\n",
    "    train_full,\n",
    "    val_pairs,\n",
    "    test_pairs\n",
    ") = load_smcalflow_cs_simplified(\n",
    "    \"/home/wangx36/uncertainty-search-compgen-master/uncertainty-search-compgen-master/text/semparse/smcalflow-cs\"\n",
    ")\n"
   ]
  },
  {
   "cell_type": "code",
   "execution_count": 12,
   "id": "97e1ca70",
   "metadata": {},
   "outputs": [
    {
     "data": {
      "text/plain": [
       "[('Set up a meeting with Hannah and Sara for next Thursday before 4 pm . ',\n",
       "  'CreateEvent ( AND ( with _ attendee ( \" Hannah \" ) , with _ attendee ( \" Sara \" ) , starts _ at ( OnDateBeforeTime ( date = NextDOW ( \" THURSDAY \" ) , time = NumberPM ( 4 ) ) ) ) ) ',\n",
       "  '86f29318-d2a5-4fa0-9fcf-b4840ca75de9.0')]"
      ]
     },
     "execution_count": 12,
     "metadata": {},
     "output_type": "execute_result"
    }
   ],
   "source": [
    "train_pairs[:1]"
   ]
  },
  {
   "cell_type": "code",
   "execution_count": 13,
   "id": "9f1fa0d1",
   "metadata": {},
   "outputs": [
    {
     "data": {
      "text/plain": [
       "[('Set up a meeting for Monday of next week at 3 with Sarah and her boss',\n",
       "  'CreateEvent ( AND ( with _ attendee ( \" Sarah \" ) , with _ attendee ( FindManager ( \" Sarah \" ) ) , starts _ at ( DowOfWeekNew ( dow = DayOfWeek ( \" MONDAY \" ) , week = NextWeekList ( ) ) ) , starts _ at ( NumberPM ( 3 ) ) ) ) ',\n",
       "  '7b6fd772-aaab-4015-9519-5b7c3459c2b6.0'),\n",
       " ('Make an event for Rob and his manager and invite Chris and his manager as well for next saturday at 1 pm',\n",
       "  'CreateEvent ( AND ( with _ attendee ( \" Rob \" ) , with _ attendee ( FindManager ( \" Rob \" ) ) , with _ attendee ( \" Chris \" ) , with _ attendee ( FindManager ( \" Chris \" ) ) , starts _ at ( NextDOW ( \" SATURDAY \" ) ) , starts _ at ( NumberPM ( 1 ) ) ) ) ',\n",
       "  '53a1d409-b78f-41b3-b0b7-c914edbf44c6.0')]"
      ]
     },
     "execution_count": 13,
     "metadata": {},
     "output_type": "execute_result"
    }
   ],
   "source": [
    "# Fewshot data\n",
    "train_full[-128:-126]"
   ]
  },
  {
   "cell_type": "code",
   "execution_count": 14,
   "id": "e124e747",
   "metadata": {},
   "outputs": [
    {
     "data": {
      "text/plain": [
       "[(\"Schedule a meeting with Elli and her manager ' s boss tomorrow morning . \",\n",
       "  'CreateEvent ( AND ( with _ attendee ( \" Elli \" ) , with _ attendee ( FindManager ( FindManager ( \" Elli \" ) ) ) , starts _ at ( Morning ( ) ) , starts _ at ( Tomorrow ( ) ) ) ) ',\n",
       "  'a13ffcd8-86a3-46f0-aeef-4c7f43620152.4'),\n",
       " ('create work drinks after meeting with boss',\n",
       "  'CreateEvent ( AND ( has _ subject ( \" work drinks \" ) , starts _ at ( : end ( FindEvents ( with _ attendee ( FindManager ( CurrentUser ( ) ) ) ) ) ) ) ) ',\n",
       "  '84a9c27c-5388-4d72-b23d-a8d97a6e3696.0')]"
      ]
     },
     "execution_count": 14,
     "metadata": {},
     "output_type": "execute_result"
    }
   ],
   "source": [
    "test_pairs[:2]"
   ]
  },
  {
   "cell_type": "code",
   "execution_count": 15,
   "id": "bab71821",
   "metadata": {},
   "outputs": [],
   "source": [
    "tokenizer, idx2word = load_hf_tokenizer(\"Salesforce/codet5p-220m\")"
   ]
  },
  {
   "cell_type": "code",
   "execution_count": 16,
   "id": "6746dfe7",
   "metadata": {},
   "outputs": [
    {
     "name": "stdout",
     "output_type": "stream",
     "text": [
      "从数据集1中抽取了2552个样本\n",
      "从数据集2中抽取了2500个样本\n",
      "合并后的数据集包含5052个样本\n"
     ]
    }
   ],
   "source": [
    "\n",
    "# def create_combined_pytorch_dataset(dataset1, dataset2, ratio1=0.5, ratio2=0.5, shuffle=True):\n",
    "\n",
    "#     import random\n",
    "#     import pickle\n",
    "#     from torch.utils.data import Subset, ConcatDataset\n",
    "\n",
    "#     sample_count1 = int(len(dataset1) * ratio1)\n",
    "#     sample_count2 = int(len(dataset2) * ratio2)\n",
    "    \n",
    "\n",
    "#     indices1 = list(range(len(dataset1)))\n",
    "#     indices2 = list(range(len(dataset2)))\n",
    "    \n",
    "\n",
    "#     if shuffle:\n",
    "#         random.shuffle(indices1)\n",
    "#         random.shuffle(indices2)\n",
    "    \n",
    "#     selected_indices1 = indices1[:sample_count1]\n",
    "#     selected_indices2 = indices2[:sample_count2]\n",
    "    \n",
    "#     subset1 = Subset(dataset1, selected_indices1)\n",
    "#     subset2 = Subset(dataset2, selected_indices2)\n",
    "\n",
    "#     combined_dataset = ConcatDataset([subset1, subset2])\n",
    "    \n",
    "#     print(f\"from data1 {len(subset1)}\")\n",
    "#     print(f\"from data2{len(subset2)}\")\n",
    "#     print(f\"combine{len(combined_dataset)}\")\n",
    "\n",
    "#     return combined_dataset\n",
    "\n",
    "\n",
    "\n",
    "\n",
    "# def load_jsonl(file_path, split_label):\n",
    "#     with open(file_path) as f:\n",
    "#         return [{**o, \"split\": split_label} for o in parse_json_objects(f.readlines())]\n",
    "\n",
    "\n",
    "\n",
    "# high_loss_samples = load_jsonl('/home/wangx36/uncertainty-search-compgen-master/uncertainty-search-compgen-master/high_loss_dataset.jsonl', 'high_loss')\n",
    "\n",
    "\n",
    "\n",
    "# def process_data(data):\n",
    "#         return [\n",
    "#             (retokenize_input(x[\"source\"]), retokenize_input(x[\"target\"]), x[\"qid\"])\n",
    "#             for x in data if x[\"target\"] is not None\n",
    "#         ]\n",
    "\n",
    "\n",
    "\n",
    "# high_loss_samples = process_data(high_loss_samples)\n",
    "\n",
    "\n",
    "\n",
    "# train_data_for_temperature_head = create_combined_pytorch_dataset(train_full, high_loss_samples, ratio1=0.1, ratio2=1, shuffle=True)"
   ]
  },
  {
   "cell_type": "code",
   "execution_count": 17,
   "id": "42ee575f",
   "metadata": {},
   "outputs": [
    {
     "name": "stderr",
     "output_type": "stream",
     "text": [
      "Seed set to 0\n"
     ]
    },
    {
     "name": "stdout",
     "output_type": "stream",
     "text": [
      "...\n",
      "\n",
      "results of the gradient checking:\n",
      "ATShead gradient status:\n",
      "warn: layers.0.self_attn.in_proj_weight no gradient\n",
      "warn: layers.0.self_attn.in_proj_bias no gradient\n",
      "warn: layers.0.self_attn.out_proj.weight no gradient\n",
      "warn: layers.0.self_attn.out_proj.bias no gradient\n",
      "warn: layers.0.linear1.weight no gradient\n",
      "warn: layers.0.linear1.bias no gradient\n",
      "warn: layers.0.linear2.weight no gradient\n",
      "warn: layers.0.linear2.bias no gradient\n",
      "warn: layers.0.norm1.weight no gradient\n",
      "warn: layers.0.norm1.bias no gradient\n",
      "warn: layers.0.norm2.weight no gradient\n",
      "warn: layers.0.norm2.bias no gradient\n",
      "warn: layers.1.self_attn.in_proj_weight no gradient\n",
      "warn: layers.1.self_attn.in_proj_bias no gradient\n",
      "warn: layers.1.self_attn.out_proj.weight no gradient\n",
      "warn: layers.1.self_attn.out_proj.bias no gradient\n",
      "warn: layers.1.linear1.weight no gradient\n",
      "warn: layers.1.linear1.bias no gradient\n",
      "warn: layers.1.linear2.weight no gradient\n",
      "warn: layers.1.linear2.bias no gradient\n",
      "warn: layers.1.norm1.weight no gradient\n",
      "warn: layers.1.norm1.bias no gradient\n",
      "warn: layers.1.norm2.weight no gradient\n",
      "warn: layers.1.norm2.bias no gradient\n",
      "warn: temperature_proj.weight no gradient\n",
      "warn: temperature_proj.bias no gradient\n",
      "\n",
      "check the gradient of all parameters:\n",
      "✓ we are best\n"
     ]
    },
    {
     "name": "stderr",
     "output_type": "stream",
     "text": [
      "/appl/scibuilder-mamba/aalto-rhel9/prod/software/scicomp-python-env/2024-01/f56a564/lib/python3.11/site-packages/lightning_fabric/plugins/environments/slurm.py:204: The `srun` command is available on your system but is not used. HINT: If your intention is to run Lightning on SLURM, prepend your python command with `srun` like so: srun python /appl/scibuilder-mamba/aalto-rhel9/prod/software/sci ...\n",
      "Using bfloat16 Automatic Mixed Precision (AMP)\n",
      "GPU available: True (cuda), used: True\n",
      "TPU available: False, using: 0 TPU cores\n",
      "IPU available: False, using: 0 IPUs\n",
      "HPU available: False, using: 0 HPUs\n",
      "2025-03-07 02:27:16.704407: E external/local_xla/xla/stream_executor/cuda/cuda_dnn.cc:9261] Unable to register cuDNN factory: Attempting to register factory for plugin cuDNN when one has already been registered\n",
      "2025-03-07 02:27:16.704437: E external/local_xla/xla/stream_executor/cuda/cuda_fft.cc:607] Unable to register cuFFT factory: Attempting to register factory for plugin cuFFT when one has already been registered\n",
      "2025-03-07 02:27:16.705071: E external/local_xla/xla/stream_executor/cuda/cuda_blas.cc:1515] Unable to register cuBLAS factory: Attempting to register factory for plugin cuBLAS when one has already been registered\n",
      "LOCAL_RANK: 0 - CUDA_VISIBLE_DEVICES: [0]\n",
      "\n",
      "  | Name     | Type                       | Params\n",
      "--------------------------------------------------------\n",
      "0 | model    | T5ForConditionalGeneration | 222 M \n",
      "1 | ats_head | ATShead                    | 14.2 M\n",
      "--------------------------------------------------------\n",
      "222 M     Trainable params\n",
      "14.2 M    Non-trainable params\n",
      "237 M     Total params\n",
      "948.234   Total estimated model params size (MB)\n"
     ]
    },
    {
     "data": {
      "application/vnd.jupyter.widget-view+json": {
       "model_id": "",
       "version_major": 2,
       "version_minor": 0
      },
      "text/plain": [
       "Sanity Checking: |                                                                                | 0/? [00:00…"
      ]
     },
     "metadata": {},
     "output_type": "display_data"
    },
    {
     "name": "stderr",
     "output_type": "stream",
     "text": [
      "/appl/scibuilder-mamba/aalto-rhel9/prod/software/scicomp-python-env/2024-01/f56a564/lib/python3.11/site-packages/pytorch_lightning/trainer/connectors/data_connector.py:441: The 'val_dataloader' does not have many workers which may be a bottleneck. Consider increasing the value of the `num_workers` argument` to `num_workers=7` in the `DataLoader` to improve performance.\n",
      "/appl/scibuilder-mamba/aalto-rhel9/prod/software/scicomp-python-env/2024-01/f56a564/lib/python3.11/site-packages/pytorch_lightning/trainer/connectors/data_connector.py:441: The 'train_dataloader' does not have many workers which may be a bottleneck. Consider increasing the value of the `num_workers` argument` to `num_workers=7` in the `DataLoader` to improve performance.\n"
     ]
    },
    {
     "data": {
      "application/vnd.jupyter.widget-view+json": {
       "model_id": "3d754717425c42a3aa517b5040d1c214",
       "version_major": 2,
       "version_minor": 0
      },
      "text/plain": [
       "Training: |                                                                                       | 0/? [00:00…"
      ]
     },
     "metadata": {},
     "output_type": "display_data"
    },
    {
     "name": "stderr",
     "output_type": "stream",
     "text": [
      "/appl/scibuilder-mamba/aalto-rhel9/prod/software/scicomp-python-env/2024-01/f56a564/lib/python3.11/site-packages/pytorch_lightning/trainer/call.py:54: Detected KeyboardInterrupt, attempting graceful shutdown...\n",
      "Using bfloat16 Automatic Mixed Precision (AMP)\n",
      "GPU available: True (cuda), used: True\n",
      "TPU available: False, using: 0 TPU cores\n",
      "IPU available: False, using: 0 IPUs\n",
      "HPU available: False, using: 0 HPUs\n",
      "LOCAL_RANK: 0 - CUDA_VISIBLE_DEVICES: [0]\n",
      "\n",
      "  | Name     | Type                       | Params\n",
      "--------------------------------------------------------\n",
      "0 | model    | T5ForConditionalGeneration | 222 M \n",
      "1 | ats_head | ATShead                    | 14.2 M\n",
      "--------------------------------------------------------\n",
      "14.2 M    Trainable params\n",
      "222 M     Non-trainable params\n",
      "237 M     Total params\n",
      "948.234   Total estimated model params size (MB)\n"
     ]
    },
    {
     "data": {
      "application/vnd.jupyter.widget-view+json": {
       "model_id": "",
       "version_major": 2,
       "version_minor": 0
      },
      "text/plain": [
       "Sanity Checking: |                                                                                | 0/? [00:00…"
      ]
     },
     "metadata": {},
     "output_type": "display_data"
    },
    {
     "data": {
      "application/vnd.jupyter.widget-view+json": {
       "model_id": "5aa7c529fed44579a59fd0307003c3d1",
       "version_major": 2,
       "version_minor": 0
      },
      "text/plain": [
       "Training: |                                                                                       | 0/? [00:00…"
      ]
     },
     "metadata": {},
     "output_type": "display_data"
    }
   ],
   "source": [
    "# Note: This trains only the decoder (see transformer_optimizer_config)\n",
    "#\n",
    "# You might want to train the encoder as well, but for now, only the decoder.\n",
    "train_only_trainer, train_only_model, train_only_harness = finetune_tf_lm(\n",
    "    \"Salesforce/codet5p-220m\",\n",
    "    tokenizer,\n",
    "    train_pairs[:-128],\n",
    "    train_data_for_temperature_head,\n",
    "    val_pairs,\n",
    "    root_dir=\"logs/train_only\"\n",
    ")"
   ]
  },
  {
   "cell_type": "code",
   "execution_count": 41,
   "id": "6ebeb731",
   "metadata": {},
   "outputs": [
    {
     "name": "stderr",
     "output_type": "stream",
     "text": [
      "Seed set to 0\n",
      "/appl/scibuilder-mamba/aalto-rhel9/prod/software/scicomp-python-env/2024-01/f56a564/lib/python3.11/site-packages/huggingface_hub/file_download.py:1132: FutureWarning: `resume_download` is deprecated and will be removed in version 1.0.0. Downloads always resume when possible. If you want to force a new download, use `force_download=True`.\n",
      "  warnings.warn(\n"
     ]
    },
    {
     "name": "stdout",
     "output_type": "stream",
     "text": [
      "...\n",
      "\n",
      "results of the gradient checking:\n",
      "ATShead gradient status:\n",
      "warn: layers.0.self_attn.in_proj_weight no gradient\n",
      "warn: layers.0.self_attn.in_proj_bias no gradient\n",
      "warn: layers.0.self_attn.out_proj.weight no gradient\n",
      "warn: layers.0.self_attn.out_proj.bias no gradient\n",
      "warn: layers.0.linear1.weight no gradient\n",
      "warn: layers.0.linear1.bias no gradient\n",
      "warn: layers.0.linear2.weight no gradient\n",
      "warn: layers.0.linear2.bias no gradient\n",
      "warn: layers.0.norm1.weight no gradient\n",
      "warn: layers.0.norm1.bias no gradient\n",
      "warn: layers.0.norm2.weight no gradient\n",
      "warn: layers.0.norm2.bias no gradient\n",
      "warn: layers.1.self_attn.in_proj_weight no gradient\n",
      "warn: layers.1.self_attn.in_proj_bias no gradient\n",
      "warn: layers.1.self_attn.out_proj.weight no gradient\n",
      "warn: layers.1.self_attn.out_proj.bias no gradient\n",
      "warn: layers.1.linear1.weight no gradient\n",
      "warn: layers.1.linear1.bias no gradient\n",
      "warn: layers.1.linear2.weight no gradient\n",
      "warn: layers.1.linear2.bias no gradient\n",
      "warn: layers.1.norm1.weight no gradient\n",
      "warn: layers.1.norm1.bias no gradient\n",
      "warn: layers.1.norm2.weight no gradient\n",
      "warn: layers.1.norm2.bias no gradient\n",
      "warn: temperature_proj.weight no gradient\n",
      "warn: temperature_proj.bias no gradient\n",
      "\n",
      "check the gradient of all parameters:\n",
      "✓ we are best\n"
     ]
    },
    {
     "name": "stderr",
     "output_type": "stream",
     "text": [
      "Using bfloat16 Automatic Mixed Precision (AMP)\n",
      "GPU available: True (cuda), used: True\n",
      "TPU available: False, using: 0 TPU cores\n",
      "IPU available: False, using: 0 IPUs\n",
      "HPU available: False, using: 0 HPUs\n",
      "LOCAL_RANK: 0 - CUDA_VISIBLE_DEVICES: [0]\n",
      "\n",
      "  | Name     | Type                       | Params\n",
      "--------------------------------------------------------\n",
      "0 | model    | T5ForConditionalGeneration | 222 M \n",
      "1 | ats_head | ATShead                    | 14.2 M\n",
      "--------------------------------------------------------\n",
      "222 M     Trainable params\n",
      "14.2 M    Non-trainable params\n",
      "237 M     Total params\n",
      "948.234   Total estimated model params size (MB)\n"
     ]
    },
    {
     "data": {
      "application/vnd.jupyter.widget-view+json": {
       "model_id": "",
       "version_major": 2,
       "version_minor": 0
      },
      "text/plain": [
       "Sanity Checking: |                                        | 0/? [00:00<?, ?it/s]"
      ]
     },
     "metadata": {},
     "output_type": "display_data"
    },
    {
     "data": {
      "application/vnd.jupyter.widget-view+json": {
       "model_id": "8ec48b454e814047a1195e4a445dc8cc",
       "version_major": 2,
       "version_minor": 0
      },
      "text/plain": [
       "Training: |                                               | 0/? [00:00<?, ?it/s]"
      ]
     },
     "metadata": {},
     "output_type": "display_data"
    },
    {
     "data": {
      "application/vnd.jupyter.widget-view+json": {
       "model_id": "",
       "version_major": 2,
       "version_minor": 0
      },
      "text/plain": [
       "Validation: |                                             | 0/? [00:00<?, ?it/s]"
      ]
     },
     "metadata": {},
     "output_type": "display_data"
    },
    {
     "data": {
      "application/vnd.jupyter.widget-view+json": {
       "model_id": "",
       "version_major": 2,
       "version_minor": 0
      },
      "text/plain": [
       "Validation: |                                             | 0/? [00:00<?, ?it/s]"
      ]
     },
     "metadata": {},
     "output_type": "display_data"
    },
    {
     "data": {
      "application/vnd.jupyter.widget-view+json": {
       "model_id": "",
       "version_major": 2,
       "version_minor": 0
      },
      "text/plain": [
       "Validation: |                                             | 0/? [00:00<?, ?it/s]"
      ]
     },
     "metadata": {},
     "output_type": "display_data"
    },
    {
     "data": {
      "application/vnd.jupyter.widget-view+json": {
       "model_id": "",
       "version_major": 2,
       "version_minor": 0
      },
      "text/plain": [
       "Validation: |                                             | 0/? [00:00<?, ?it/s]"
      ]
     },
     "metadata": {},
     "output_type": "display_data"
    },
    {
     "data": {
      "application/vnd.jupyter.widget-view+json": {
       "model_id": "",
       "version_major": 2,
       "version_minor": 0
      },
      "text/plain": [
       "Validation: |                                             | 0/? [00:00<?, ?it/s]"
      ]
     },
     "metadata": {},
     "output_type": "display_data"
    },
    {
     "name": "stderr",
     "output_type": "stream",
     "text": [
      "`Trainer.fit` stopped: `max_steps=2500` reached.\n",
      "Using bfloat16 Automatic Mixed Precision (AMP)\n",
      "GPU available: True (cuda), used: True\n",
      "TPU available: False, using: 0 TPU cores\n",
      "IPU available: False, using: 0 IPUs\n",
      "HPU available: False, using: 0 HPUs\n",
      "LOCAL_RANK: 0 - CUDA_VISIBLE_DEVICES: [0]\n",
      "\n",
      "  | Name     | Type                       | Params\n",
      "--------------------------------------------------------\n",
      "0 | model    | T5ForConditionalGeneration | 222 M \n",
      "1 | ats_head | ATShead                    | 14.2 M\n",
      "--------------------------------------------------------\n",
      "14.2 M    Trainable params\n",
      "222 M     Non-trainable params\n",
      "237 M     Total params\n",
      "948.234   Total estimated model params size (MB)\n"
     ]
    },
    {
     "data": {
      "application/vnd.jupyter.widget-view+json": {
       "model_id": "",
       "version_major": 2,
       "version_minor": 0
      },
      "text/plain": [
       "Sanity Checking: |                                        | 0/? [00:00<?, ?it/s]"
      ]
     },
     "metadata": {},
     "output_type": "display_data"
    },
    {
     "data": {
      "application/vnd.jupyter.widget-view+json": {
       "model_id": "7f1255c3b7e942eb8035a9cb18b9e082",
       "version_major": 2,
       "version_minor": 0
      },
      "text/plain": [
       "Training: |                                               | 0/? [00:00<?, ?it/s]"
      ]
     },
     "metadata": {},
     "output_type": "display_data"
    },
    {
     "data": {
      "application/vnd.jupyter.widget-view+json": {
       "model_id": "",
       "version_major": 2,
       "version_minor": 0
      },
      "text/plain": [
       "Validation: |                                             | 0/? [00:00<?, ?it/s]"
      ]
     },
     "metadata": {},
     "output_type": "display_data"
    },
    {
     "data": {
      "application/vnd.jupyter.widget-view+json": {
       "model_id": "",
       "version_major": 2,
       "version_minor": 0
      },
      "text/plain": [
       "Validation: |                                             | 0/? [00:00<?, ?it/s]"
      ]
     },
     "metadata": {},
     "output_type": "display_data"
    },
    {
     "data": {
      "application/vnd.jupyter.widget-view+json": {
       "model_id": "",
       "version_major": 2,
       "version_minor": 0
      },
      "text/plain": [
       "Validation: |                                             | 0/? [00:00<?, ?it/s]"
      ]
     },
     "metadata": {},
     "output_type": "display_data"
    },
    {
     "data": {
      "application/vnd.jupyter.widget-view+json": {
       "model_id": "",
       "version_major": 2,
       "version_minor": 0
      },
      "text/plain": [
       "Validation: |                                             | 0/? [00:00<?, ?it/s]"
      ]
     },
     "metadata": {},
     "output_type": "display_data"
    },
    {
     "data": {
      "application/vnd.jupyter.widget-view+json": {
       "model_id": "",
       "version_major": 2,
       "version_minor": 0
      },
      "text/plain": [
       "Validation: |                                             | 0/? [00:00<?, ?it/s]"
      ]
     },
     "metadata": {},
     "output_type": "display_data"
    },
    {
     "name": "stderr",
     "output_type": "stream",
     "text": [
      "`Trainer.fit` stopped: `max_steps=2500` reached.\n"
     ]
    }
   ],
   "source": [
    "shot_trainer, shot_model, shot_harness = finetune_tf_lm(\n",
    "    \"Salesforce/codet5p-220m\",\n",
    "    tokenizer,\n",
    "    train_pairs[:-72],# First 32 pairs\n",
    "    train_data_for_temperature_head,\n",
    "    val_pairs,\n",
    "    root_dir=\"logs/shot_train\"\n",
    ")"
   ]
  },
  {
   "cell_type": "code",
   "execution_count": 16,
   "id": "912c6666",
   "metadata": {},
   "outputs": [
    {
     "name": "stderr",
     "output_type": "stream",
     "text": [
      "Seed set to 0\n",
      "/appl/scibuilder-mamba/aalto-rhel9/prod/software/scicomp-python-env/2025.1/7956747/lib/python3.11/site-packages/transformers/generation/configuration_utils.py:817: UserWarning: `return_dict_in_generate` is NOT set to `True`, but `output_hidden_states` is. When `return_dict_in_generate` is not `True`, `output_hidden_states` is ignored.\n",
      "  warnings.warn(\n",
      "/home/wangx36/uncertainty-search-compgen-master/uncertainty-search-compgen-master/uncertainty_search_compgen/train_lm.py:611: FutureWarning: You are using `torch.load` with `weights_only=False` (the current default value), which uses the default pickle module implicitly. It is possible to construct malicious pickle data which will execute arbitrary code during unpickling (See https://github.com/pytorch/pytorch/blob/main/SECURITY.md#untrusted-models for more details). In a future release, the default value for `weights_only` will be flipped to `True`. This limits the functions that could be executed during unpickling. Arbitrary objects will no longer be allowed to be loaded via this mode unless they are explicitly allowlisted by the user via `torch.serialization.add_safe_globals`. We recommend you start setting `weights_only=True` for any use case where you don't have full control of the loaded file. Please open an issue on GitHub for any issues related to this experimental feature.\n",
      "  harness.load_state_dict(torch.load(load_from)[\"state_dict\"])\n",
      "/appl/scibuilder-mamba/aalto-rhel9/prod/software/scicomp-python-env/2025.1/7956747/lib/python3.11/site-packages/lightning_fabric/plugins/environments/slurm.py:204: The `srun` command is available on your system but is not used. HINT: If your intention is to run Lightning on SLURM, prepend your python command with `srun` like so: srun python /appl/scibuilder-mamba/aalto-rhel9/prod/software/sci ...\n",
      "[gpu45.int.triton.aalto.fi:3529985] shmem: mmap: an error occurred while determining whether or not /tmp/ompi.gpu45.3104029/jf.0/2940469248/shared_mem_cuda_pool.gpu45 could be created.\n",
      "[gpu45.int.triton.aalto.fi:3529985] create_and_attach: unable to create shared memory BTL coordinating structure :: size 134217728 \n",
      "Using bfloat16 Automatic Mixed Precision (AMP)\n",
      "GPU available: True (cuda), used: True\n",
      "TPU available: False, using: 0 TPU cores\n",
      "HPU available: False, using: 0 HPUs\n"
     ]
    }
   ],
   "source": [
    "# 重用已有的trainer和model\n",
    "shot_trainer, shot_model, shot_harness = finetune_tf_lm(\n",
    "    \"Salesforce/codet5p-220m\",\n",
    "    tokenizer,\n",
    "    train_pairs[:-72],\n",
    "    train_full,\n",
    "    val_pairs,\n",
    "    load_from=\"logs/shot_train/stage2/final_model_with_new_tempurature_stage2.ckpt\",  # 加载保存的模型\n",
    "    do_fit=False  # 不重新训练\n",
    ")"
   ]
  },
  {
   "cell_type": "code",
   "execution_count": 17,
   "id": "3a4a14b3",
   "metadata": {},
   "outputs": [
    {
     "name": "stderr",
     "output_type": "stream",
     "text": [
      "Seed set to 0\n",
      "Using bfloat16 Automatic Mixed Precision (AMP)\n",
      "GPU available: True (cuda), used: True\n",
      "TPU available: False, using: 0 TPU cores\n",
      "HPU available: False, using: 0 HPUs\n"
     ]
    }
   ],
   "source": [
    "train_only_trainer, train_only_model, train_only_harness = finetune_tf_lm(\n",
    "    \"Salesforce/codet5p-220m\",\n",
    "    tokenizer,\n",
    "    train_pairs[:-128],\n",
    "    train_full,\n",
    "    val_pairs,\n",
    "    load_from=\"logs/train_only/stage2/final_model_with_new_tempurature_stage2.ckpt\",  # 加载training only的模型\n",
    "    do_fit=False  # 不重新训练\n",
    ")"
   ]
  },
  {
   "cell_type": "code",
   "execution_count": 16,
   "id": "1a4e9463",
   "metadata": {},
   "outputs": [
    {
     "name": "stderr",
     "output_type": "stream",
     "text": [
      "Seed set to 0\n"
     ]
    },
    {
     "data": {
      "application/vnd.jupyter.widget-view+json": {
       "model_id": "3ace0eebea43442abca3a437725bd26b",
       "version_major": 2,
       "version_minor": 0
      },
      "text/plain": [
       "config.json:   0%|          | 0.00/768 [00:00<?, ?B/s]"
      ]
     },
     "metadata": {},
     "output_type": "display_data"
    },
    {
     "data": {
      "application/vnd.jupyter.widget-view+json": {
       "model_id": "cc93728db8c141f7b115186b863b8ffd",
       "version_major": 2,
       "version_minor": 0
      },
      "text/plain": [
       "pytorch_model.bin:   0%|          | 0.00/446M [00:00<?, ?B/s]"
      ]
     },
     "metadata": {},
     "output_type": "display_data"
    },
    {
     "name": "stderr",
     "output_type": "stream",
     "text": [
      "/appl/scibuilder-mamba/aalto-rhel9/prod/software/scicomp-python-env/2025.1/7956747/lib/python3.11/site-packages/transformers/generation/configuration_utils.py:817: UserWarning: `return_dict_in_generate` is NOT set to `True`, but `output_hidden_states` is. When `return_dict_in_generate` is not `True`, `output_hidden_states` is ignored.\n",
      "  warnings.warn(\n",
      "/home/wangx36/uncertainty-search-compgen-master/uncertainty-search-compgen-master/uncertainty_search_compgen/train_lm.py:669: FutureWarning: You are using `torch.load` with `weights_only=False` (the current default value), which uses the default pickle module implicitly. It is possible to construct malicious pickle data which will execute arbitrary code during unpickling (See https://github.com/pytorch/pytorch/blob/main/SECURITY.md#untrusted-models for more details). In a future release, the default value for `weights_only` will be flipped to `True`. This limits the functions that could be executed during unpickling. Arbitrary objects will no longer be allowed to be loaded via this mode unless they are explicitly allowlisted by the user via `torch.serialization.add_safe_globals`. We recommend you start setting `weights_only=True` for any use case where you don't have full control of the loaded file. Please open an issue on GitHub for any issues related to this experimental feature.\n",
      "  harness.load_state_dict(torch.load(load_from)[\"state_dict\"])\n",
      "/appl/scibuilder-mamba/aalto-rhel9/prod/software/scicomp-python-env/2025.1/7956747/lib/python3.11/site-packages/lightning_fabric/plugins/environments/slurm.py:204: The `srun` command is available on your system but is not used. HINT: If your intention is to run Lightning on SLURM, prepend your python command with `srun` like so: srun python /appl/scibuilder-mamba/aalto-rhel9/prod/software/sci ...\n",
      "[gpu45.int.triton.aalto.fi:1973089] shmem: mmap: an error occurred while determining whether or not /tmp/ompi.gpu45.3104029/jf.0/4008312832/shared_mem_cuda_pool.gpu45 could be created.\n",
      "[gpu45.int.triton.aalto.fi:1973089] create_and_attach: unable to create shared memory BTL coordinating structure :: size 134217728 \n",
      "Using bfloat16 Automatic Mixed Precision (AMP)\n",
      "GPU available: True (cuda), used: True\n",
      "TPU available: False, using: 0 TPU cores\n",
      "HPU available: False, using: 0 HPUs\n"
     ]
    }
   ],
   "source": [
    "# train_only_trainer, train_only_model1, train_only_harness = finetune_tf_lm(\n",
    "#     \"Salesforce/codet5p-220m\",\n",
    "#     tokenizer,\n",
    "#     train_pairs[:-128],\n",
    "#     train_full,\n",
    "#     val_pairs,\n",
    "#     load_from=\"logs/train_only/stage1/final_model_for_generate_data.ckpt\",  # 加载training only的模型\n",
    "#     do_fit=False  # 不重新训练\n",
    "# )"
   ]
  },
  {
   "cell_type": "code",
   "execution_count": 51,
   "id": "63e66373",
   "metadata": {},
   "outputs": [],
   "source": [
    "# def compute_final_high_loss_samples(model, dataloader, pad_token, top_ratio, device, output_file='high_loss_qids1.txt'):\n",
    "#     import torch.nn.functional as F\n",
    "    \n",
    "#     loss_dict = {}\n",
    "#     qid_dict = {}  # 存储sample_id到qid的映射\n",
    "    \n",
    "#     with torch.no_grad():\n",
    "#         for batch_idx, batch in enumerate(dataloader):\n",
    "#             # 确保模型在正确的设备上\n",
    "#             model = model.to(device)\n",
    "            \n",
    "#             # 创建一个新的batch字典，所有张量都移动到正确的设备\n",
    "#             device_batch = {}\n",
    "#             for k, v in batch.items():\n",
    "#                 if isinstance(v, torch.Tensor):\n",
    "#                     device_batch[k] = v.to(device)\n",
    "#                 else:\n",
    "#                     device_batch[k] = v\n",
    "            \n",
    "#             # 存储当前批次的qid\n",
    "#             if 'qid' in batch:\n",
    "#                 for i, qid in enumerate(batch['qid']):\n",
    "#                     sample_id = batch_idx * dataloader.batch_size + i\n",
    "#                     qid_dict[sample_id] = qid\n",
    "            \n",
    "#             # 使用device_batch进行模型操作\n",
    "#             outputs = model(\n",
    "#                 input_ids=device_batch[\"input_ids\"],\n",
    "#                 attention_mask=device_batch.get(\"attention_mask\", None),\n",
    "#                 decoder_input_ids=device_batch.get(\"decoder_input_ids\", None),\n",
    "#                 decoder_attention_mask=device_batch.get(\"decoder_attention_mask\", None),\n",
    "#                 labels=device_batch.get(\"labels\", None),\n",
    "#             )\n",
    "            \n",
    "#             # 获取预测结果\n",
    "#             preds = outputs.logits\n",
    "            \n",
    "#             # 计算token级别的损失（忽略pad tokens）\n",
    "#             token_losses = F.cross_entropy(\n",
    "#                 preds.view(-1, preds.size(-1)),\n",
    "#                 device_batch[\"labels\"].view(-1),\n",
    "#                 reduction='none',\n",
    "#                 ignore_index=pad_token\n",
    "#             ).view(preds.shape[0], -1)\n",
    "            \n",
    "#             # 存储batch_idx和计算的损失\n",
    "#             for i in range(batch[\"input_ids\"].shape[0]):\n",
    "#                 sample_id = batch_idx * dataloader.batch_size + i\n",
    "#                 loss_dict[sample_id] = token_losses[i].mean().item()\n",
    "    \n",
    "#     # 找出高损失样本\n",
    "#     sorted_losses = sorted(loss_dict.items(), key=lambda x: x[1], reverse=True)\n",
    "#     num_high_loss = int(len(sorted_losses) * top_ratio)\n",
    "#     high_loss_samples = [idx for idx, _ in sorted_losses[:num_high_loss]]\n",
    "    \n",
    "#     # 收集高损失样本的qid\n",
    "#     high_loss_qids = []\n",
    "#     for idx in high_loss_samples:\n",
    "#         if idx in qid_dict:\n",
    "#             high_loss_qids.append(qid_dict[idx])\n",
    "#         else:\n",
    "#             high_loss_qids.append(str(idx))  # 如果没有qid，使用索引作为标识\n",
    "    \n",
    "#     # 将qids保存到文件\n",
    "#     with open(output_file, 'w') as f:\n",
    "#         for qid in high_loss_qids:\n",
    "#             f.write(f\"{qid}\\n\")\n",
    "    \n",
    "#     print(f\"已将{len(high_loss_qids)}个高损失样本的qid保存到 {output_file}\")\n",
    "    \n",
    "#     return high_loss_samples, high_loss_qids"
   ]
  },
  {
   "cell_type": "code",
   "execution_count": 52,
   "id": "4efede83",
   "metadata": {},
   "outputs": [],
   "source": [
    "# dataset1 = TokenizerPairDataset(train_full[-128:], tokenizer)"
   ]
  },
  {
   "cell_type": "code",
   "execution_count": 53,
   "id": "7f32ad6f",
   "metadata": {},
   "outputs": [],
   "source": [
    "# train_dataloader = DataLoader(\n",
    "#     dataset1,\n",
    "#     batch_size=32,\n",
    "#     shuffle=False,\n",
    "# )"
   ]
  },
  {
   "cell_type": "code",
   "execution_count": 54,
   "id": "c71bb59b",
   "metadata": {},
   "outputs": [
    {
     "name": "stdout",
     "output_type": "stream",
     "text": [
      "已将12个高损失样本的qid保存到 high_loss_qids1.txt\n"
     ]
    },
    {
     "data": {
      "text/plain": [
       "([106, 94, 110, 86, 105, 125, 53, 39, 124, 50, 111, 36],\n",
       " ['b58fb1c2-5858-4aea-9061-6f9218cffce2.1',\n",
       "  '5dfbd4c8-c451-4a0f-b331-6de92fdd4237.0',\n",
       "  '20969fb1-db47-4282-957d-fbf74b3c50ba.1',\n",
       "  'f8893bfd-ef71-4c9e-9307-17069292795d.2',\n",
       "  '4c88ca0d-c6d0-493f-bbe6-b227430e7d6a.0',\n",
       "  'eb3ea4b2-b5b6-416a-86e5-08981c2f8df4.0',\n",
       "  'cc994e8f-7508-479f-8422-9620dd662969.2',\n",
       "  'bd667849-51f1-438f-94b4-d68b7a7eada7.0',\n",
       "  '5da058cf-53ea-4355-a841-2ee1dcea5125.0',\n",
       "  '08705eda-ffbc-4afb-b788-a67fe878b906.0',\n",
       "  'fad08b6b-a76a-4259-a7d8-5dabf2c2113e.1',\n",
       "  '5cc6e434-fe04-4149-8f49-4bf3582d2717.0'])"
      ]
     },
     "execution_count": 54,
     "metadata": {},
     "output_type": "execute_result"
    }
   ],
   "source": [
    "# import torch\n",
    "# compute_final_high_loss_samples(train_only_model1, dataloader=train_dataloader, pad_token=tokenizer.pad_token_id, top_ratio=0.1, device=\"cuda\")"
   ]
  },
  {
   "cell_type": "code",
   "execution_count": 55,
   "id": "e7161fa9",
   "metadata": {},
   "outputs": [],
   "source": [
    "# def create_high_loss_dataset_from_qids(original_dataset_file, high_loss_qids_file, output_file):\n",
    "#     \"\"\"\n",
    "#     根据高损失样本的qid文件从原始数据集中提取样本，创建一个新的数据集\n",
    "    \n",
    "#     参数:\n",
    "#     original_dataset_file: 原始数据集的文件路径（JSONL格式）\n",
    "#     high_loss_qids_file: 包含高损失样本qid的文件路径\n",
    "#     output_file: 输出新数据集的文件路径\n",
    "    \n",
    "#     返回:\n",
    "#     high_loss_samples_count: 提取的高损失样本数量\n",
    "#     \"\"\"\n",
    "#     import json\n",
    "    \n",
    "#     # 读取高损失样本的qid\n",
    "#     with open(high_loss_qids_file, 'r') as f:\n",
    "#         high_loss_qids = set([line.strip() for line in f])\n",
    "    \n",
    "#     print(f\"读取了{len(high_loss_qids)}个高损失样本的qid\")\n",
    "    \n",
    "#     # 从原始数据集中提取高损失样本\n",
    "#     high_loss_samples = []\n",
    "    \n",
    "#     with open(original_dataset_file, 'r', encoding='utf-8') as f:\n",
    "#         for line in f:\n",
    "#             if not line.strip():\n",
    "#                 continue\n",
    "            \n",
    "#             try:\n",
    "#                 sample = json.loads(line.strip())\n",
    "#                 if sample.get('qid') in high_loss_qids:\n",
    "#                     high_loss_samples.append(sample)\n",
    "#             except json.JSONDecodeError:\n",
    "#                 print(f\"警告: 跳过无效的JSON行: {line[:50]}...\")\n",
    "    \n",
    "#     print(f\"从原始数据集中提取了{len(high_loss_samples)}个高损失样本\")\n",
    "    \n",
    "#     # 保存新数据集\n",
    "#     with open(output_file, 'w', encoding='utf-8') as f:\n",
    "#         for sample in high_loss_samples:\n",
    "#             f.write(json.dumps(sample, ensure_ascii=False) + '\\n')\n",
    "    \n",
    "#     print(f\"高损失样本数据集已保存到 {output_file}\")\n",
    "    \n",
    "#     return len(high_loss_samples)"
   ]
  },
  {
   "cell_type": "code",
   "execution_count": 58,
   "id": "8c2aa147",
   "metadata": {},
   "outputs": [
    {
     "name": "stdout",
     "output_type": "stream",
     "text": [
      "读取了12个高损失样本的qid\n",
      "从原始数据集中提取了0个高损失样本\n",
      "高损失样本数据集已保存到 high_loss_dataset1.jsonl\n"
     ]
    },
    {
     "data": {
      "text/plain": [
       "0"
      ]
     },
     "execution_count": 58,
     "metadata": {},
     "output_type": "execute_result"
    }
   ],
   "source": [
    "# create_high_loss_dataset_from_qids(\n",
    "#     original_dataset_file=\"/home/wangx36/uncertainty-search-compgen-master/uncertainty-search-compgen-master/text/semparse/smcalflow-cs/train.simplified.jsonl\",\n",
    "#     high_loss_qids_file=\"high_loss_qids1.txt\",\n",
    "#     output_file=\"high_loss_dataset1.jsonl\"\n",
    "# )"
   ]
  },
  {
   "cell_type": "code",
   "execution_count": 75,
   "id": "7a368f95",
   "metadata": {},
   "outputs": [],
   "source": [
    "# def create_combined_pytorch_dataset(dataset1, dataset2, ratio1=0.5, ratio2=0.5, shuffle=True,json_path=None):\n",
    "#     \"\"\"\n",
    "#     从两个PyTorch数据集中按指定比例抽取样本，组成一个新的数据集\n",
    "    \n",
    "#     参数:\n",
    "#     dataset1: 第一个PyTorch数据集\n",
    "#     dataset2: 第二个PyTorch数据集\n",
    "#     ratio1: 从第一个数据集中抽取的比例（默认0.5，即50%）\n",
    "#     ratio2: 从第二个数据集中抽取的比例（默认0.5，即50%）\n",
    "#     shuffle: 是否打乱样本顺序（默认True）\n",
    "    \n",
    "#     返回:\n",
    "#     combined_dataset: 合并后的PyTorch数据集\n",
    "#     \"\"\"\n",
    "#     import random\n",
    "#     import pickle\n",
    "#     from torch.utils.data import Subset, ConcatDataset\n",
    "    \n",
    "#     # 计算要抽取的样本数量\n",
    "#     sample_count1 = int(len(dataset1) * ratio1)\n",
    "#     sample_count2 = int(len(dataset2) * ratio2)\n",
    "    \n",
    "#     # 生成索引列表\n",
    "#     indices1 = list(range(len(dataset1)))\n",
    "#     indices2 = list(range(len(dataset2)))\n",
    "    \n",
    "#     # 随机打乱索引（如果需要）\n",
    "#     if shuffle:\n",
    "#         random.shuffle(indices1)\n",
    "#         random.shuffle(indices2)\n",
    "    \n",
    "#     # 抽取子集\n",
    "#     selected_indices1 = indices1[:sample_count1]\n",
    "#     selected_indices2 = indices2[:sample_count2]\n",
    "    \n",
    "#     subset1 = Subset(dataset1, selected_indices1)\n",
    "#     subset2 = Subset(dataset2, selected_indices2)\n",
    "    \n",
    "#     # 合并数据集\n",
    "#     combined_dataset = ConcatDataset([subset1, subset2])\n",
    "    \n",
    "#     print(f\"从数据集1中抽取了{len(subset1)}个样本\")\n",
    "#     print(f\"从数据集2中抽取了{len(subset2)}个样本\")\n",
    "#     print(f\"合并后的数据集包含{len(combined_dataset)}个样本\")\n",
    "#     if json_path:\n",
    "#         # 使用pickle保存原始数据\n",
    "#         with open(json_path, 'wb') as f:\n",
    "#             pickle.dump(combined_dataset, f)\n",
    "        \n",
    "#         print(f\"数据集已保存到: {json_path}\")\n",
    "#         print(combined_dataset[:2])\n",
    "#     return combined_dataset"
   ]
  },
  {
   "cell_type": "code",
   "execution_count": 76,
   "id": "bb434145",
   "metadata": {},
   "outputs": [],
   "source": [
    "\n",
    "    # def load_jsonl(file_path, split_label):\n",
    "    #     with open(file_path) as f:\n",
    "    #         return [{**o, \"split\": split_label} for o in parse_json_objects(f.readlines())]"
   ]
  },
  {
   "cell_type": "code",
   "execution_count": 77,
   "id": "65e90056",
   "metadata": {},
   "outputs": [],
   "source": [
    "# high_loss_samples = load_jsonl('/home/wangx36/uncertainty-search-compgen-master/uncertainty-search-compgen-master/high_loss_dataset.jsonl', 'high_loss')"
   ]
  },
  {
   "cell_type": "code",
   "execution_count": 78,
   "id": "47348672",
   "metadata": {},
   "outputs": [],
   "source": [
    "# def process_data(data):\n",
    "#         return [\n",
    "#             (retokenize_input(x[\"source\"]), retokenize_input(x[\"target\"]), x[\"qid\"])\n",
    "#             for x in data if x[\"target\"] is not None\n",
    "#         ]"
   ]
  },
  {
   "cell_type": "code",
   "execution_count": 79,
   "id": "795cafc1",
   "metadata": {},
   "outputs": [],
   "source": [
    "# high_loss_samples = process_data(high_loss_samples)"
   ]
  },
  {
   "cell_type": "code",
   "execution_count": 80,
   "id": "aadbff14",
   "metadata": {},
   "outputs": [
    {
     "name": "stdout",
     "output_type": "stream",
     "text": [
      "从数据集1中抽取了1276个样本\n",
      "从数据集2中抽取了1250个样本\n",
      "合并后的数据集包含2526个样本\n",
      "数据集已保存到: /home/wangx36/uncertainty-search-compgen-master/uncertainty-search-compgen-master/head.pkl\n"
     ]
    },
    {
     "ename": "TypeError",
     "evalue": "'<' not supported between instances of 'slice' and 'int'",
     "output_type": "error",
     "traceback": [
      "\u001b[0;31m---------------------------------------------------------------------------\u001b[0m",
      "\u001b[0;31mTypeError\u001b[0m                                 Traceback (most recent call last)",
      "Cell \u001b[0;32mIn[80], line 1\u001b[0m\n\u001b[0;32m----> 1\u001b[0m train_data_for_temperature_head \u001b[38;5;241m=\u001b[39m \u001b[43mcreate_combined_pytorch_dataset\u001b[49m\u001b[43m(\u001b[49m\u001b[43mtrain_full\u001b[49m\u001b[43m,\u001b[49m\u001b[43m \u001b[49m\u001b[43mhigh_loss_samples\u001b[49m\u001b[43m,\u001b[49m\u001b[43m \u001b[49m\u001b[43mratio1\u001b[49m\u001b[38;5;241;43m=\u001b[39;49m\u001b[38;5;241;43m0.05\u001b[39;49m\u001b[43m,\u001b[49m\u001b[43m \u001b[49m\u001b[43mratio2\u001b[49m\u001b[38;5;241;43m=\u001b[39;49m\u001b[38;5;241;43m0.5\u001b[39;49m\u001b[43m,\u001b[49m\u001b[43m \u001b[49m\u001b[43mshuffle\u001b[49m\u001b[38;5;241;43m=\u001b[39;49m\u001b[38;5;28;43;01mTrue\u001b[39;49;00m\u001b[43m,\u001b[49m\u001b[43mjson_path\u001b[49m\u001b[38;5;241;43m=\u001b[39;49m\u001b[38;5;124;43m'\u001b[39;49m\u001b[38;5;124;43m/home/wangx36/uncertainty-search-compgen-master/uncertainty-search-compgen-master/head.pkl\u001b[39;49m\u001b[38;5;124;43m'\u001b[39;49m\u001b[43m)\u001b[49m\n",
      "Cell \u001b[0;32mIn[75], line 51\u001b[0m, in \u001b[0;36mcreate_combined_pytorch_dataset\u001b[0;34m(dataset1, dataset2, ratio1, ratio2, shuffle, json_path)\u001b[0m\n\u001b[1;32m     48\u001b[0m         pickle\u001b[38;5;241m.\u001b[39mdump(combined_dataset, f)\n\u001b[1;32m     50\u001b[0m     \u001b[38;5;28mprint\u001b[39m(\u001b[38;5;124mf\u001b[39m\u001b[38;5;124m\"\u001b[39m\u001b[38;5;124m数据集已保存到: \u001b[39m\u001b[38;5;132;01m{\u001b[39;00mjson_path\u001b[38;5;132;01m}\u001b[39;00m\u001b[38;5;124m\"\u001b[39m)\n\u001b[0;32m---> 51\u001b[0m     \u001b[38;5;28mprint\u001b[39m(\u001b[43mcombined_dataset\u001b[49m\u001b[43m[\u001b[49m\u001b[43m:\u001b[49m\u001b[38;5;241;43m2\u001b[39;49m\u001b[43m]\u001b[49m)\n\u001b[1;32m     52\u001b[0m \u001b[38;5;28;01mreturn\u001b[39;00m combined_dataset\n",
      "File \u001b[0;32m/appl/scibuilder-mamba/aalto-rhel9/prod/software/scicomp-python-env/2024-01/f56a564/lib/python3.11/site-packages/torch/utils/data/dataset.py:326\u001b[0m, in \u001b[0;36mConcatDataset.__getitem__\u001b[0;34m(self, idx)\u001b[0m\n\u001b[1;32m    325\u001b[0m \u001b[38;5;28;01mdef\u001b[39;00m \u001b[38;5;21m__getitem__\u001b[39m(\u001b[38;5;28mself\u001b[39m, idx):\n\u001b[0;32m--> 326\u001b[0m     \u001b[38;5;28;01mif\u001b[39;00m \u001b[43midx\u001b[49m\u001b[43m \u001b[49m\u001b[38;5;241;43m<\u001b[39;49m\u001b[43m \u001b[49m\u001b[38;5;241;43m0\u001b[39;49m:\n\u001b[1;32m    327\u001b[0m         \u001b[38;5;28;01mif\u001b[39;00m \u001b[38;5;241m-\u001b[39midx \u001b[38;5;241m>\u001b[39m \u001b[38;5;28mlen\u001b[39m(\u001b[38;5;28mself\u001b[39m):\n\u001b[1;32m    328\u001b[0m             \u001b[38;5;28;01mraise\u001b[39;00m \u001b[38;5;167;01mValueError\u001b[39;00m(\u001b[38;5;124m\"\u001b[39m\u001b[38;5;124mabsolute value of index should not exceed dataset length\u001b[39m\u001b[38;5;124m\"\u001b[39m)\n",
      "\u001b[0;31mTypeError\u001b[0m: '<' not supported between instances of 'slice' and 'int'"
     ]
    }
   ],
   "source": [
    "# train_data_for_temperature_head = create_combined_pytorch_dataset(train_full, high_loss_samples, ratio1=0.05, ratio2=0.5, shuffle=True,json_path='/home/wangx36/uncertainty-search-compgen-master/uncertainty-search-compgen-master/head.pkl')"
   ]
  },
  {
   "cell_type": "code",
   "execution_count": 18,
   "id": "4c43aff7",
   "metadata": {},
   "outputs": [],
   "source": [
    "# single_test_example = next(iter(DataLoader(TokenizerPairDataset(test_pairs, tokenizer), batch_size=1)))"
   ]
  },
  {
   "cell_type": "code",
   "execution_count": 19,
   "id": "29e0c08b",
   "metadata": {},
   "outputs": [],
   "source": [
    "# single_test_example_topk_outputs = get_topk_outputs(shot_harness, single_test_example)"
   ]
  },
  {
   "cell_type": "code",
   "execution_count": 20,
   "id": "bde419b6",
   "metadata": {},
   "outputs": [],
   "source": [
    "# # Metric 1: Token-level entropy\n",
    "# single_test_example_entropy = measure_entropy(shot_harness, single_test_example)"
   ]
  },
  {
   "cell_type": "code",
   "execution_count": 21,
   "id": "79657db4",
   "metadata": {},
   "outputs": [],
   "source": [
    "# # Metric 2: Token-level entropy, using model uncertainty\n",
    "# single_test_example_model_entropy = measure_mutual_kl_causal_mask(shot_harness, single_test_example)"
   ]
  },
  {
   "cell_type": "code",
   "execution_count": 22,
   "id": "7d02c939",
   "metadata": {},
   "outputs": [],
   "source": [
    "# # Metric 3: Student-teacher KL divergence\n",
    "# single_test_example_student_teacher_divergence = measure_teacher_student_model_divergence(\n",
    "#     train_only_harness,\n",
    "#     shot_harness,\n",
    "#     single_test_example\n",
    "# )"
   ]
  },
  {
   "cell_type": "code",
   "execution_count": 23,
   "id": "e2a2435d",
   "metadata": {},
   "outputs": [
    {
     "name": "stdout",
     "output_type": "stream",
     "text": [
      "T5Module(\n",
      "  (model): T5ForConditionalGeneration(\n",
      "    (shared): Embedding(32100, 768)\n",
      "    (encoder): T5Stack(\n",
      "      (embed_tokens): Embedding(32100, 768)\n",
      "      (block): ModuleList(\n",
      "        (0): T5Block(\n",
      "          (layer): ModuleList(\n",
      "            (0): T5LayerSelfAttention(\n",
      "              (SelfAttention): T5Attention(\n",
      "                (q): Linear(in_features=768, out_features=768, bias=False)\n",
      "                (k): Linear(in_features=768, out_features=768, bias=False)\n",
      "                (v): Linear(in_features=768, out_features=768, bias=False)\n",
      "                (o): Linear(in_features=768, out_features=768, bias=False)\n",
      "                (relative_attention_bias): Embedding(32, 12)\n",
      "              )\n",
      "              (layer_norm): T5LayerNorm()\n",
      "              (dropout): Dropout(p=0.1, inplace=False)\n",
      "            )\n",
      "            (1): T5LayerFF(\n",
      "              (DenseReluDense): T5DenseActDense(\n",
      "                (wi): Linear(in_features=768, out_features=3072, bias=False)\n",
      "                (wo): Linear(in_features=3072, out_features=768, bias=False)\n",
      "                (dropout): Dropout(p=0.1, inplace=False)\n",
      "                (act): ReLU()\n",
      "              )\n",
      "              (layer_norm): T5LayerNorm()\n",
      "              (dropout): Dropout(p=0.1, inplace=False)\n",
      "            )\n",
      "          )\n",
      "        )\n",
      "        (1-11): 11 x T5Block(\n",
      "          (layer): ModuleList(\n",
      "            (0): T5LayerSelfAttention(\n",
      "              (SelfAttention): T5Attention(\n",
      "                (q): Linear(in_features=768, out_features=768, bias=False)\n",
      "                (k): Linear(in_features=768, out_features=768, bias=False)\n",
      "                (v): Linear(in_features=768, out_features=768, bias=False)\n",
      "                (o): Linear(in_features=768, out_features=768, bias=False)\n",
      "              )\n",
      "              (layer_norm): T5LayerNorm()\n",
      "              (dropout): Dropout(p=0.1, inplace=False)\n",
      "            )\n",
      "            (1): T5LayerFF(\n",
      "              (DenseReluDense): T5DenseActDense(\n",
      "                (wi): Linear(in_features=768, out_features=3072, bias=False)\n",
      "                (wo): Linear(in_features=3072, out_features=768, bias=False)\n",
      "                (dropout): Dropout(p=0.1, inplace=False)\n",
      "                (act): ReLU()\n",
      "              )\n",
      "              (layer_norm): T5LayerNorm()\n",
      "              (dropout): Dropout(p=0.1, inplace=False)\n",
      "            )\n",
      "          )\n",
      "        )\n",
      "      )\n",
      "      (final_layer_norm): T5LayerNorm()\n",
      "      (dropout): Dropout(p=0.1, inplace=False)\n",
      "    )\n",
      "    (decoder): T5Stack(\n",
      "      (embed_tokens): Embedding(32100, 768)\n",
      "      (block): ModuleList(\n",
      "        (0): T5Block(\n",
      "          (layer): ModuleList(\n",
      "            (0): T5LayerSelfAttention(\n",
      "              (SelfAttention): T5Attention(\n",
      "                (q): Linear(in_features=768, out_features=768, bias=False)\n",
      "                (k): Linear(in_features=768, out_features=768, bias=False)\n",
      "                (v): Linear(in_features=768, out_features=768, bias=False)\n",
      "                (o): Linear(in_features=768, out_features=768, bias=False)\n",
      "                (relative_attention_bias): Embedding(32, 12)\n",
      "              )\n",
      "              (layer_norm): T5LayerNorm()\n",
      "              (dropout): Dropout(p=0.1, inplace=False)\n",
      "            )\n",
      "            (1): T5LayerCrossAttention(\n",
      "              (EncDecAttention): T5Attention(\n",
      "                (q): Linear(in_features=768, out_features=768, bias=False)\n",
      "                (k): Linear(in_features=768, out_features=768, bias=False)\n",
      "                (v): Linear(in_features=768, out_features=768, bias=False)\n",
      "                (o): Linear(in_features=768, out_features=768, bias=False)\n",
      "              )\n",
      "              (layer_norm): T5LayerNorm()\n",
      "              (dropout): Dropout(p=0.1, inplace=False)\n",
      "            )\n",
      "            (2): T5LayerFF(\n",
      "              (DenseReluDense): T5DenseActDense(\n",
      "                (wi): Linear(in_features=768, out_features=3072, bias=False)\n",
      "                (wo): Linear(in_features=3072, out_features=768, bias=False)\n",
      "                (dropout): Dropout(p=0.1, inplace=False)\n",
      "                (act): ReLU()\n",
      "              )\n",
      "              (layer_norm): T5LayerNorm()\n",
      "              (dropout): Dropout(p=0.1, inplace=False)\n",
      "            )\n",
      "          )\n",
      "        )\n",
      "        (1-11): 11 x T5Block(\n",
      "          (layer): ModuleList(\n",
      "            (0): T5LayerSelfAttention(\n",
      "              (SelfAttention): T5Attention(\n",
      "                (q): Linear(in_features=768, out_features=768, bias=False)\n",
      "                (k): Linear(in_features=768, out_features=768, bias=False)\n",
      "                (v): Linear(in_features=768, out_features=768, bias=False)\n",
      "                (o): Linear(in_features=768, out_features=768, bias=False)\n",
      "              )\n",
      "              (layer_norm): T5LayerNorm()\n",
      "              (dropout): Dropout(p=0.1, inplace=False)\n",
      "            )\n",
      "            (1): T5LayerCrossAttention(\n",
      "              (EncDecAttention): T5Attention(\n",
      "                (q): Linear(in_features=768, out_features=768, bias=False)\n",
      "                (k): Linear(in_features=768, out_features=768, bias=False)\n",
      "                (v): Linear(in_features=768, out_features=768, bias=False)\n",
      "                (o): Linear(in_features=768, out_features=768, bias=False)\n",
      "              )\n",
      "              (layer_norm): T5LayerNorm()\n",
      "              (dropout): Dropout(p=0.1, inplace=False)\n",
      "            )\n",
      "            (2): T5LayerFF(\n",
      "              (DenseReluDense): T5DenseActDense(\n",
      "                (wi): Linear(in_features=768, out_features=3072, bias=False)\n",
      "                (wo): Linear(in_features=3072, out_features=768, bias=False)\n",
      "                (dropout): Dropout(p=0.1, inplace=False)\n",
      "                (act): ReLU()\n",
      "              )\n",
      "              (layer_norm): T5LayerNorm()\n",
      "              (dropout): Dropout(p=0.1, inplace=False)\n",
      "            )\n",
      "          )\n",
      "        )\n",
      "      )\n",
      "      (final_layer_norm): T5LayerNorm()\n",
      "      (dropout): Dropout(p=0.1, inplace=False)\n",
      "    )\n",
      "    (lm_head): Linear(in_features=768, out_features=32100, bias=False)\n",
      "  )\n",
      "  (ats_head): ATShead(\n",
      "    (layers): ModuleList(\n",
      "      (0-1): 2 x TransformerEncoderLayer(\n",
      "        (self_attn): MultiheadAttention(\n",
      "          (out_proj): NonDynamicallyQuantizableLinear(in_features=768, out_features=768, bias=True)\n",
      "        )\n",
      "        (linear1): Linear(in_features=768, out_features=3072, bias=True)\n",
      "        (dropout): Dropout(p=0.1, inplace=False)\n",
      "        (linear2): Linear(in_features=3072, out_features=768, bias=True)\n",
      "        (norm1): LayerNorm((768,), eps=1e-05, elementwise_affine=True)\n",
      "        (norm2): LayerNorm((768,), eps=1e-05, elementwise_affine=True)\n",
      "        (dropout1): Dropout(p=0.1, inplace=False)\n",
      "        (dropout2): Dropout(p=0.1, inplace=False)\n",
      "      )\n",
      "    )\n",
      "    (temperature_proj): Linear(in_features=768, out_features=1, bias=True)\n",
      "  )\n",
      ")\n"
     ]
    }
   ],
   "source": [
    "# print(shot_harness\n",
    "#      )"
   ]
  },
  {
   "cell_type": "code",
   "execution_count": 26,
   "id": "1851c5ee",
   "metadata": {},
   "outputs": [],
   "source": [
    "# # Loss\n",
    "# with torch.inference_mode():\n",
    "#     single_test_example_train_only_loss = F.cross_entropy(\n",
    "#         train_only_harness.forward({\n",
    "#             k: v.to(shot_harness.device)\n",
    "#             for k, v in single_test_example.items()\n",
    "#         }).flatten(0, -2),\n",
    "#         single_test_example[\"labels\"].to(shot_harness.device).flatten(),\n",
    "#         reduction=\"none\"\n",
    "#     )[None].cpu()\n",
    "#     single_test_example_shot_loss = F.cross_entropy(\n",
    "#         shot_harness.forward({\n",
    "#             k: v.to(shot_harness.device)\n",
    "#             for k, v in single_test_example.items()\n",
    "#         }).flatten(0, -2),\n",
    "#         single_test_example[\"labels\"].to(shot_harness.device).flatten(),\n",
    "#         reduction=\"none\"\n",
    "#     )[None].cpu()"
   ]
  },
  {
   "cell_type": "code",
   "execution_count": 42,
   "id": "56887b2e",
   "metadata": {},
   "outputs": [],
   "source": [
    "# # Loss\n",
    "# with torch.inference_mode():\n",
    " \n",
    "#     inputs1 = {\n",
    "#         k: v.to(shot_harness.device) if hasattr(v, 'to') else v\n",
    "#         for k, v in single_test_example.items()\n",
    "#     }\n",
    "# #     train_only_harness.train_mode = \"ats\"\n",
    "#     output= train_only_harness.forward(inputs1)\n",
    "#     logits = output[0]\n",
    "    \n",
    "#     single_test_example_train_only_loss = F.cross_entropy(\n",
    "#         scale_logits.flatten(0, -2), \n",
    "#         single_test_example[\"labels\"].to(shot_harness.device).flatten(),\n",
    "#         reduction=\"none\"\n",
    "#     )[None].cpu()\n",
    "  \n",
    "#     inputs2 = {}\n",
    "#     for k, v in single_test_example.items():\n",
    "#         if hasattr(v, 'to'):\n",
    "          \n",
    "#             inputs2[k] = v.to(shot_harness.device)\n",
    "#         elif isinstance(v, list) and all(not isinstance(item, str) for item in v):\n",
    "            \n",
    "#             try:\n",
    "#                 inputs2[k] = torch.tensor(v, device=shot_harness.device)\n",
    "#             except:\n",
    "#                 inputs2[k] = v  \n",
    "#         else:\n",
    "\n",
    "#             inputs2[k] = v\n",
    "    \n",
    "# #     shot_harness.train_mode = \"ats\"\n",
    "#     output2 = shot_harness.forward(inputs2) [0]\n",
    "#     single_test_example_shot_loss = F.cross_entropy(\n",
    "#         output2.flatten(0, -2),\n",
    "#         single_test_example[\"labels\"].to(shot_harness.device).flatten(),\n",
    "#         reduction=\"none\"\n",
    "#     )[None].cpu()"
   ]
  },
  {
   "cell_type": "code",
   "execution_count": 43,
   "id": "ac3e417c",
   "metadata": {},
   "outputs": [],
   "source": [
    "# # Topk outputs\n",
    "# single_test_example_topk = get_topk_outputs(shot_harness, single_test_example)"
   ]
  },
  {
   "cell_type": "code",
   "execution_count": 44,
   "id": "ddcae21c",
   "metadata": {},
   "outputs": [
    {
     "data": {
      "text/html": [
       "<div>\n",
       "<style scoped>\n",
       "    .dataframe tbody tr th:only-of-type {\n",
       "        vertical-align: middle;\n",
       "    }\n",
       "\n",
       "    .dataframe tbody tr th {\n",
       "        vertical-align: top;\n",
       "    }\n",
       "\n",
       "    .dataframe thead th {\n",
       "        text-align: right;\n",
       "    }\n",
       "</style>\n",
       "<table border=\"1\" class=\"dataframe\">\n",
       "  <thead>\n",
       "    <tr style=\"text-align: right;\">\n",
       "      <th></th>\n",
       "      <th>ent</th>\n",
       "      <th>kl</th>\n",
       "      <th>loss</th>\n",
       "      <th>student_loss</th>\n",
       "      <th>true</th>\n",
       "      <th>k0</th>\n",
       "      <th>k1</th>\n",
       "      <th>k2</th>\n",
       "      <th>k3</th>\n",
       "      <th>k4</th>\n",
       "    </tr>\n",
       "  </thead>\n",
       "  <tbody>\n",
       "    <tr>\n",
       "      <th>0</th>\n",
       "      <td>0.002498</td>\n",
       "      <td>4.458816e-06</td>\n",
       "      <td>1.192093e-07</td>\n",
       "      <td>1.192093e-07</td>\n",
       "      <td>&lt;s&gt;</td>\n",
       "      <td>&lt;s&gt;</td>\n",
       "      <td>&lt;/s&gt;</td>\n",
       "      <td>&lt;extra_id_0&gt;</td>\n",
       "      <td>Ċ</td>\n",
       "      <td>ï</td>\n",
       "    </tr>\n",
       "    <tr>\n",
       "      <th>1</th>\n",
       "      <td>0.004954</td>\n",
       "      <td>6.622601e-05</td>\n",
       "      <td>2.220785e-03</td>\n",
       "      <td>9.708459e-04</td>\n",
       "      <td>Create</td>\n",
       "      <td>Create</td>\n",
       "      <td>do</td>\n",
       "      <td>create</td>\n",
       "      <td>ĠCreate</td>\n",
       "      <td>Get</td>\n",
       "    </tr>\n",
       "    <tr>\n",
       "      <th>2</th>\n",
       "      <td>0.000425</td>\n",
       "      <td>3.934727e-06</td>\n",
       "      <td>3.576278e-07</td>\n",
       "      <td>1.430510e-06</td>\n",
       "      <td>Event</td>\n",
       "      <td>Event</td>\n",
       "      <td>Events</td>\n",
       "      <td>event</td>\n",
       "      <td>ĠEvent</td>\n",
       "      <td>Ġevent</td>\n",
       "    </tr>\n",
       "    <tr>\n",
       "      <th>3</th>\n",
       "      <td>0.000453</td>\n",
       "      <td>4.721871e-06</td>\n",
       "      <td>1.549720e-06</td>\n",
       "      <td>4.887569e-06</td>\n",
       "      <td>Ġ(</td>\n",
       "      <td>Ġ(</td>\n",
       "      <td>(</td>\n",
       "      <td>Ġ((</td>\n",
       "      <td>Ċ</td>\n",
       "      <td>Ġ</td>\n",
       "    </tr>\n",
       "    <tr>\n",
       "      <th>4</th>\n",
       "      <td>0.001645</td>\n",
       "      <td>1.475229e-05</td>\n",
       "      <td>7.211902e-05</td>\n",
       "      <td>4.243760e-05</td>\n",
       "      <td>ĠAND</td>\n",
       "      <td>ĠAND</td>\n",
       "      <td>ĠOR</td>\n",
       "      <td>ĠWITH</td>\n",
       "      <td>AND</td>\n",
       "      <td>Ġand</td>\n",
       "    </tr>\n",
       "    <tr>\n",
       "      <th>...</th>\n",
       "      <td>...</td>\n",
       "      <td>...</td>\n",
       "      <td>...</td>\n",
       "      <td>...</td>\n",
       "      <td>...</td>\n",
       "      <td>...</td>\n",
       "      <td>...</td>\n",
       "      <td>...</td>\n",
       "      <td>...</td>\n",
       "      <td>...</td>\n",
       "    </tr>\n",
       "    <tr>\n",
       "      <th>58</th>\n",
       "      <td>0.000333</td>\n",
       "      <td>1.019044e-06</td>\n",
       "      <td>-0.000000e+00</td>\n",
       "      <td>1.192093e-07</td>\n",
       "      <td>Ġ)</td>\n",
       "      <td>Ġ)</td>\n",
       "      <td>Ġ);</td>\n",
       "      <td>)</td>\n",
       "      <td>Ġ]</td>\n",
       "      <td>Ġ))</td>\n",
       "    </tr>\n",
       "    <tr>\n",
       "      <th>59</th>\n",
       "      <td>0.000411</td>\n",
       "      <td>1.406760e-06</td>\n",
       "      <td>2.384186e-07</td>\n",
       "      <td>9.655906e-06</td>\n",
       "      <td>Ġ[</td>\n",
       "      <td>Ġ[</td>\n",
       "      <td>Ġ(</td>\n",
       "      <td>[</td>\n",
       "      <td>Ġ['</td>\n",
       "      <td>Ġ[-</td>\n",
       "    </tr>\n",
       "    <tr>\n",
       "      <th>60</th>\n",
       "      <td>0.000115</td>\n",
       "      <td>6.575555e-07</td>\n",
       "      <td>1.204007e-05</td>\n",
       "      <td>1.227848e-05</td>\n",
       "      <td>e</td>\n",
       "      <td>e</td>\n",
       "      <td>Ġe</td>\n",
       "      <td>E</td>\n",
       "      <td>es</td>\n",
       "      <td>ef</td>\n",
       "    </tr>\n",
       "    <tr>\n",
       "      <th>61</th>\n",
       "      <td>0.000149</td>\n",
       "      <td>1.023931e-06</td>\n",
       "      <td>4.887569e-06</td>\n",
       "      <td>7.152532e-06</td>\n",
       "      <td>os</td>\n",
       "      <td>os</td>\n",
       "      <td>OS</td>\n",
       "      <td>Ġos</td>\n",
       "      <td>o</td>\n",
       "      <td>osh</td>\n",
       "    </tr>\n",
       "    <tr>\n",
       "      <th>62</th>\n",
       "      <td>0.000623</td>\n",
       "      <td>3.396566e-06</td>\n",
       "      <td>4.768360e-06</td>\n",
       "      <td>6.556490e-06</td>\n",
       "      <td>]</td>\n",
       "      <td>]</td>\n",
       "      <td>];</td>\n",
       "      <td>],</td>\n",
       "      <td>].</td>\n",
       "      <td>:]</td>\n",
       "    </tr>\n",
       "  </tbody>\n",
       "</table>\n",
       "<p>63 rows × 10 columns</p>\n",
       "</div>"
      ],
      "text/plain": [
       "         ent            kl          loss  student_loss    true      k0  \\\n",
       "0   0.002498  4.458816e-06  1.192093e-07  1.192093e-07     <s>     <s>   \n",
       "1   0.004954  6.622601e-05  2.220785e-03  9.708459e-04  Create  Create   \n",
       "2   0.000425  3.934727e-06  3.576278e-07  1.430510e-06   Event   Event   \n",
       "3   0.000453  4.721871e-06  1.549720e-06  4.887569e-06      Ġ(      Ġ(   \n",
       "4   0.001645  1.475229e-05  7.211902e-05  4.243760e-05    ĠAND    ĠAND   \n",
       "..       ...           ...           ...           ...     ...     ...   \n",
       "58  0.000333  1.019044e-06 -0.000000e+00  1.192093e-07      Ġ)      Ġ)   \n",
       "59  0.000411  1.406760e-06  2.384186e-07  9.655906e-06      Ġ[      Ġ[   \n",
       "60  0.000115  6.575555e-07  1.204007e-05  1.227848e-05       e       e   \n",
       "61  0.000149  1.023931e-06  4.887569e-06  7.152532e-06      os      os   \n",
       "62  0.000623  3.396566e-06  4.768360e-06  6.556490e-06       ]       ]   \n",
       "\n",
       "        k1            k2       k3      k4  \n",
       "0     </s>  <extra_id_0>        Ċ       ï  \n",
       "1       do        create  ĠCreate     Get  \n",
       "2   Events         event   ĠEvent  Ġevent  \n",
       "3        (           Ġ((        Ċ       Ġ  \n",
       "4      ĠOR         ĠWITH      AND    Ġand  \n",
       "..     ...           ...      ...     ...  \n",
       "58     Ġ);             )       Ġ]     Ġ))  \n",
       "59      Ġ(             [      Ġ['     Ġ[-  \n",
       "60      Ġe             E       es      ef  \n",
       "61      OS           Ġos        o     osh  \n",
       "62      ];            ],       ].      :]  \n",
       "\n",
       "[63 rows x 10 columns]"
      ]
     },
     "execution_count": 44,
     "metadata": {},
     "output_type": "execute_result"
    }
   ],
   "source": [
    "# visualize_as_table(\n",
    "#     single_test_example_entropy,\n",
    "#     single_test_example_student_teacher_divergence,\n",
    "#     single_test_example_train_only_loss,\n",
    "#     single_test_example_shot_loss,\n",
    "#     single_test_example_topk,\n",
    "#     single_test_example,\n",
    "#     idx2word,\n",
    "#     shot_harness.hparams.pad_token\n",
    "# )"
   ]
  },
  {
   "cell_type": "code",
   "execution_count": 45,
   "id": "a4b4b1d2",
   "metadata": {},
   "outputs": [
    {
     "data": {
      "image/png": "[encoded data removed]",
      "text/plain": [
       "<Figure size 1800x400 with 1 Axes>"
      ]
     },
     "metadata": {},
     "output_type": "display_data"
    }
   ],
   "source": [
    "# plot_batch_and_metric(\n",
    "#     tokenizer,\n",
    "#     single_test_example,\n",
    "#     single_test_example_shot_loss,\n",
    "#     idx2word,\n",
    "#     shot_harness.hparams.pad_token\n",
    "# )"
   ]
  },
  {
   "cell_type": "code",
   "execution_count": 46,
   "id": "023ab6a8",
   "metadata": {},
   "outputs": [
    {
     "name": "stdout",
     "output_type": "stream",
     "text": [
      "done\n"
     ]
    },
    {
     "data": {
      "image/png": "[encoded data removed]",
      "text/plain": [
       "<Figure size 3600x1200 with 2 Axes>"
      ]
     },
     "metadata": {},
     "output_type": "display_data"
    }
   ],
   "source": [
    "# plot_batch_and_metric_pair(\n",
    "#     tokenizer,\n",
    "#     single_test_example,\n",
    "#     single_test_example_shot_loss,\n",
    "#     single_test_example_student_teacher_divergence,\n",
    "#     idx2word,\n",
    "#     shot_harness.hparams.pad_token\n",
    "# )"
   ]
  },
  {
   "cell_type": "code",
   "execution_count": 57,
   "id": "d0f55f52",
   "metadata": {},
   "outputs": [
    {
     "name": "stdout",
     "output_type": "stream",
     "text": [
      "Automatic pdb calling has been turned ON\n"
     ]
    }
   ],
   "source": [
    "%pdb on"
   ]
  },
  {
   "cell_type": "code",
   "execution_count": 41,
   "id": "395c434c",
   "metadata": {},
   "outputs": [
    {
     "data": {
      "text/plain": [
       "[[[\"Schedule a meeting with Elli and her manager's boss tomorrow morning. \",\n",
       "   'CreateEvent ( AND ( with _attendee ( \" Elli \" ), with _attendee ( FindManager ( \" Elli \" ) ), has _ subject ( FindManager ( \" Elli \" ) ), begins _ at ( Morning ( ) ), starts _ at ( Tomorrow ( ) ) ) ) [eos] [eos] FindManager ( FindManager ( \" ELli \" ) ) ) [eos] FindEvents ( AND ( starts _ at ( Morning ( ) ), starts _ at ( Tomorrow ( ) ) ) ) ) [eos] Find',\n",
       "   'CreateEvent ( AND ( with _ attendee ( \" Elli \" ), with _ attendee ( FindManager ( FindManager ( \" Elli \" ) ) ), starts _ at ( Morning ( ) ), starts _ at ( Tomorrow ( ) ) ) ) [eos]'],\n",
       "  [\"Schedule a meeting with Elli and her manager's boss tomorrow morning. \",\n",
       "   'CreateEvent ( AND ( with _attendee ( \" Elli \" ), with _attendee ( FindManager ( \" Elli \" ) ), has _ subject ( FindManager ( \" Elli \" ) ), begins _ at ( Morning ( ) ), starts _ at ( Tomorrow ( ) ) ) ) [eos] [eos] FindManager ( FindManager ( \" ELli \" ) ) ) [eos] FindEvents ( AND ( starts _ at ( Morning ( ) ), starts _ at ( Tomorrow ( ) ) ) ) ) [eos] [',\n",
       "   'CreateEvent ( AND ( with _ attendee ( \" Elli \" ), with _ attendee ( FindManager ( FindManager ( \" Elli \" ) ) ), starts _ at ( Morning ( ) ), starts _ at ( Tomorrow ( ) ) ) ) [eos]'],\n",
       "  [\"Schedule a meeting with Elli and her manager's boss tomorrow morning. \",\n",
       "   'CreateEvent ( AND ( with _attendee ( \" Elli \" ), with _attendee ( FindManager ( \" Elli \" ) ), has _ subject ( FindManager ( \" Elli \" ) ), begins _ at ( Morning ( ) ), starts _ at ( Tomorrow ( ) ) ) ) [eos] [eos] FindManager ( FindManager ( \" ELli \" ) ) ) [eos] FindEvents ( AND ( starts _ at ( Morning ( ) ), starts _ at ( Midnight ( ) ) ) ) ) [eos] [',\n",
       "   'CreateEvent ( AND ( with _ attendee ( \" Elli \" ), with _ attendee ( FindManager ( FindManager ( \" Elli \" ) ) ), starts _ at ( Morning ( ) ), starts _ at ( Tomorrow ( ) ) ) ) [eos]'],\n",
       "  [\"Schedule a meeting with Elli and her manager's boss tomorrow morning. \",\n",
       "   'CreateEvent ( AND ( with _attendee ( \" Elli \" ), with _attendee ( FindManager ( \" Elli \" ) ), has _ subject ( FindManager ( \" Elli \" ) ), begins _ at ( Morning ( ) ), starts _ at ( Tomorrow ( ) ) ) ) [eos] [eos] FindManager ( FindManager ( \" ELli \" ) ) ) [eos] FindEvents ( AND ( starts _ at ( Morning ( ) ), starts _ at ( Midnight ( ) ) ) ) ) [eos] Find',\n",
       "   'CreateEvent ( AND ( with _ attendee ( \" Elli \" ), with _ attendee ( FindManager ( FindManager ( \" Elli \" ) ) ), starts _ at ( Morning ( ) ), starts _ at ( Tomorrow ( ) ) ) ) [eos]'],\n",
       "  [\"Schedule a meeting with Elli and her manager's boss tomorrow morning. \",\n",
       "   'CreateEvent ( AND ( with _attendee ( \" Elli \" ), with _attendee ( FindManager ( \" Elli \" ) ), has _ subject ( FindManager ( \" Elli \" ) ), begins _ at ( Morning ( ) ), starts _ at ( Tomorrow ( ) ) ) ) [eos] [eos] FindManager ( FindManager ( \" ELli \" ) ) ) [eos] FindEvents ( AND ( starts _ at ( Morning ( ) ), starts _ at ( Tomorrow ( ) ) ) ) [eos] FindManager',\n",
       "   'CreateEvent ( AND ( with _ attendee ( \" Elli \" ), with _ attendee ( FindManager ( FindManager ( \" Elli \" ) ) ), starts _ at ( Morning ( ) ), starts _ at ( Tomorrow ( ) ) ) ) [eos]'],\n",
       "  [\"Schedule a meeting with Elli and her manager's boss tomorrow morning. \",\n",
       "   'CreateEvent ( AND ( with _attendee ( \" Elli \" ), with _attendee ( FindManager ( \" Elli \" ) ), has _ subject ( FindManager ( \" Elli \" ) ), begins _ at ( Morning ( ) ), starts _ at ( Tomorrow ( ) ) ) ) [eos] [eos] FindManager ( FindManager ( \" ELli \" ) ) ) [eos] FindEvents ( AND ( starts _ at ( Morning ( ) ), starts _ at ( Tomorrow ( ) ) ) ) [eos] FindEvents',\n",
       "   'CreateEvent ( AND ( with _ attendee ( \" Elli \" ), with _ attendee ( FindManager ( FindManager ( \" Elli \" ) ) ), starts _ at ( Morning ( ) ), starts _ at ( Tomorrow ( ) ) ) ) [eos]'],\n",
       "  [\"Schedule a meeting with Elli and her manager's boss tomorrow morning. \",\n",
       "   'CreateEvent ( AND ( with _attendee ( \" Elli \" ), with _attendee ( FindManager ( \" Elli \" ) ), has _ subject ( FindManager ( \" Elli \" ) ), begins _ at ( Morning ( ) ), starts _ at ( Tomorrow ( ) ) ) ) [eos] [eos] FindManager ( FindManager ( \" ELli \" ) ) ) [eos] FindEvents ( starts _ at ( Morning ( ) ), starts _ at ( Tomorrow ( ) ) ) ) [eos] FindManager ( Find',\n",
       "   'CreateEvent ( AND ( with _ attendee ( \" Elli \" ), with _ attendee ( FindManager ( FindManager ( \" Elli \" ) ) ), starts _ at ( Morning ( ) ), starts _ at ( Tomorrow ( ) ) ) ) [eos]'],\n",
       "  [\"Schedule a meeting with Elli and her manager's boss tomorrow morning. \",\n",
       "   'CreateEvent ( AND ( with _attendee ( \" Elli \" ), with _attendee ( FindManager ( \" Elli \" ) ), has _ subject ( FindManager ( \" Elli \" ) ), begins _ at ( Morning ( ) ), starts _ at ( Tomorrow ( ) ) ) ) [eos] [eos] FindManager ( FindManager ( \" ELli \" ) ) ) [eos] FindEvents ( starts _ at ( Morning ( ) ), starts _ at ( Tomorrow ( ) ) ) ) [eos] FindManager ( \"',\n",
       "   'CreateEvent ( AND ( with _ attendee ( \" Elli \" ), with _ attendee ( FindManager ( FindManager ( \" Elli \" ) ) ), starts _ at ( Morning ( ) ), starts _ at ( Tomorrow ( ) ) ) ) [eos]']]]"
      ]
     },
     "execution_count": 41,
     "metadata": {},
     "output_type": "execute_result"
    }
   ],
   "source": [
    "# # These are all of the options that get generated by the uncertainty search\n",
    "# [\n",
    "#     [\n",
    "#         tokenizer.batch_decode(y, skip_special_tokens=True)\n",
    "#         for y in x\n",
    "#     ]\n",
    "#     for x in\n",
    "#     uncertainty_guided_search(\n",
    "#         shot_harness,\n",
    "#         single_test_example,\n",
    "#         tokenizer,\n",
    "#     )\n",
    "# ]"
   ]
  },
  {
   "cell_type": "code",
   "execution_count": null,
   "id": "9fa13282",
   "metadata": {},
   "outputs": [],
   "source": []
  },
  {
   "cell_type": "code",
   "execution_count": null,
   "id": "cf385e0b",
   "metadata": {},
   "outputs": [],
   "source": []
  }
 ],
 "metadata": {
  "kernelspec": {
   "display_name": "Python 3 (ipykernel)",
   "language": "python",
   "name": "python3"
  },
  "language_info": {
   "codemirror_mode": {
    "name": "ipython",
    "version": 3
   },
   "file_extension": ".py",
   "mimetype": "text/x-python",
   "name": "python",
   "nbconvert_exporter": "python",
   "pygments_lexer": "ipython3",
   "version": "3.11.11"
  }
 },
 "nbformat": 4,
 "nbformat_minor": 5
}
